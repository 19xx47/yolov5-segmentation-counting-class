{
  "cells": [
    {
      "cell_type": "code",
      "execution_count": null,
      "metadata": {
        "colab": {
          "base_uri": "https://localhost:8080/",
          "height": 36
        },
        "id": "5LOcHUjjQKic",
        "outputId": "7c58274a-b5fe-4332-de74-3f4914c5f420"
      },
      "outputs": [
        {
          "output_type": "execute_result",
          "data": {
            "text/plain": [
              "'/content'"
            ],
            "application/vnd.google.colaboratory.intrinsic+json": {
              "type": "string"
            }
          },
          "metadata": {},
          "execution_count": 1
        }
      ],
      "source": [
        "import os\n",
        "os.getcwd()"
      ]
    },
    {
      "cell_type": "markdown",
      "metadata": {
        "id": "FVT11JqdPgfF"
      },
      "source": [
        "Pengalamannya, terkadang tidak bisa menggunakan PNG karena terkadang PNG mempunyai RGBA, sedangkan gambar yang diolah labelme hanya berformat RGB. Jadinya jangan lupa konversi gambar tersebut ke JPEG"
      ]
    },
    {
      "cell_type": "code",
      "execution_count": null,
      "metadata": {
        "id": "dvXhQGYPRsIK"
      },
      "outputs": [],
      "source": [
        "import glob\n",
        "import os\n",
        "import shutil\n",
        "from pathlib import Path\n",
        "\n",
        "import numpy as np\n",
        "from PIL import ExifTags\n",
        "from tqdm import tqdm\n",
        "\n",
        "# Parameters\n",
        "img_formats = ['bmp', 'jpg', 'jpeg', 'png', 'tif', 'tiff', 'dng']  # acceptable image suffixes\n",
        "vid_formats = ['mov', 'avi', 'mp4', 'mpg', 'mpeg', 'm4v', 'wmv', 'mkv']  # acceptable video suffixes\n",
        "\n",
        "# Get orientation exif tag\n",
        "for orientation in ExifTags.TAGS.keys():\n",
        "    if ExifTags.TAGS[orientation] == 'Orientation':\n",
        "        break\n",
        "\n",
        "\n",
        "def exif_size(img):\n",
        "    # Returns exif-corrected PIL size\n",
        "    s = img.size  # (width, height)\n",
        "    try:\n",
        "        rotation = dict(img._getexif().items())[orientation]\n",
        "        if rotation in [6, 8]:  # rotation 270\n",
        "            s = (s[1], s[0])\n",
        "    except:\n",
        "        pass\n",
        "\n",
        "    return s\n",
        "\n",
        "\n",
        "def split_rows_simple(file='../data/sm4/out.txt'):  # from utils import *; split_rows_simple()\n",
        "    # splits one textfile into 3 smaller ones based upon train, test, val ratios\n",
        "    with open(file) as f:\n",
        "        lines = f.readlines()\n",
        "\n",
        "    s = Path(file).suffix\n",
        "    lines = sorted(list(filter(lambda x: len(x) > 0, lines)))\n",
        "    i, j, k = split_indices(lines, train=0.9, test=0.1, validate=0.0)\n",
        "    for k, v in {'train': i, 'test': j, 'val': k}.items():  # key, value pairs\n",
        "        if v.any():\n",
        "            new_file = file.replace(s, f'_{k}{s}')\n",
        "            with open(new_file, 'w') as f:\n",
        "                f.writelines([lines[i] for i in v])\n",
        "\n",
        "\n",
        "def split_files(out_path, file_name, prefix_path=''):  # split training data\n",
        "    file_name = list(filter(lambda x: len(x) > 0, file_name))\n",
        "    file_name = sorted(file_name)\n",
        "    i, j, k = split_indices(file_name, train=0.9, test=0.1, validate=0.0)\n",
        "    datasets = {'train': i, 'test': j, 'val': k}\n",
        "    for key, item in datasets.items():\n",
        "        if item.any():\n",
        "            with open(f'{out_path}_{key}.txt', 'a') as file:\n",
        "                for i in item:\n",
        "                    file.write('%s%s\\n' % (prefix_path, file_name[i]))\n",
        "\n",
        "\n",
        "def split_indices(x, train=0.9, test=0.1, validate=0.0, shuffle=True):  # split training data\n",
        "    n = len(x)\n",
        "    v = np.arange(n)\n",
        "    if shuffle:\n",
        "        np.random.shuffle(v)\n",
        "\n",
        "    i = round(n * train)  # train\n",
        "    j = round(n * test) + i  # test\n",
        "    k = round(n * validate) + j  # validate\n",
        "    return v[:i], v[i:j], v[j:k]  # return indices\n",
        "\n",
        "\n",
        "def make_dirs(dir=dir):\n",
        "    # Create folders\n",
        "    dir = Path(dir)\n",
        "    if dir.exists():\n",
        "        shutil.rmtree(dir)  # delete dir\n",
        "    for p in dir, dir / 'labels', dir / 'images':\n",
        "        p.mkdir(parents=True, exist_ok=True)  # make dir\n",
        "    return dir\n",
        "\n",
        "\n",
        "def write_data_data(fname='data.data', nc=80):\n",
        "    # write darknet *.data file\n",
        "    lines = ['classes = %g\\n' % nc,\n",
        "             'train =../out/data_train.txt\\n',\n",
        "             'valid =../out/data_test.txt\\n',\n",
        "             'names =../out/data.names\\n',\n",
        "             'backup = backup/\\n',\n",
        "             'eval = coco\\n']\n",
        "\n",
        "    with open(fname, 'a') as f:\n",
        "        f.writelines(lines)\n",
        "\n",
        "\n",
        "def image_folder2file(folder='images/'):  # from utils import *; image_folder2file()\n",
        "    # write a txt file listing all imaged in folder\n",
        "    s = glob.glob(f'{folder}*.*')\n",
        "    with open(f'{folder[:-1]}.txt', 'w') as file:\n",
        "        for l in s:\n",
        "            file.write(l + '\\n')  # write image list\n",
        "\n",
        "\n",
        "def add_coco_background(path='../data/sm4/', n=1000):  # from utils import *; add_coco_background()\n",
        "    # add coco background to sm4 in outb.txt\n",
        "    p = f'{path}background'\n",
        "    if os.path.exists(p):\n",
        "        shutil.rmtree(p)  # delete output folder\n",
        "    os.makedirs(p)  # make new output folder\n",
        "\n",
        "    # copy images\n",
        "    for image in glob.glob('../coco/images/train2014/*.*')[:n]:\n",
        "        os.system(f'cp {image} {p}')\n",
        "\n",
        "    # add to outb.txt and make train, test.txt files\n",
        "    f = f'{path}out.txt'\n",
        "    fb = f'{path}outb.txt'\n",
        "    os.system(f'cp {f} {fb}')\n",
        "    with open(fb, 'a') as file:\n",
        "        file.writelines(i + '\\n' for i in glob.glob(f'{p}/*.*'))\n",
        "    split_rows_simple(file=fb)\n",
        "\n",
        "\n",
        "def create_single_class_dataset(path='../data/sm3'):  # from utils import *; create_single_class_dataset('../data/sm3/')\n",
        "    # creates a single-class version of an existing dataset\n",
        "    os.system(f'mkdir {path}_1cls')\n",
        "\n",
        "\n",
        "def flatten_recursive_folders(path='../../Downloads/data/sm4/'):  # from utils import *; flatten_recursive_folders()\n",
        "    # flattens nested folders in path/images and path/JSON into single folders\n",
        "    idir, jdir = f'{path}images/', f'{path}json/'\n",
        "    nidir, njdir = Path(f'{path}images_flat/'), Path(f'{path}json_flat/')\n",
        "    n = 0\n",
        "\n",
        "    # Create output folders\n",
        "    for p in [nidir, njdir]:\n",
        "        if os.path.exists(p):\n",
        "            shutil.rmtree(p)  # delete output folder\n",
        "        os.makedirs(p)  # make new output folder\n",
        "\n",
        "    for parent, dirs, files in os.walk(idir):\n",
        "        for f in tqdm(files, desc=parent):\n",
        "            f = Path(f)\n",
        "            stem, suffix = f.stem, f.suffix\n",
        "            if suffix.lower()[1:] in img_formats:\n",
        "                n += 1\n",
        "                stem_new = '%g_' % n + stem\n",
        "                image_new = nidir / (stem_new + suffix)  # converts all formats to *.jpg\n",
        "                json_new = njdir / f'{stem_new}.json'\n",
        "\n",
        "                image = parent / f\n",
        "                json = Path(parent.replace('images', 'json')) / str(f).replace(suffix, '.json')\n",
        "\n",
        "                os.system(\"cp '%s' '%s'\" % (json, json_new))\n",
        "                os.system(\"cp '%s' '%s'\" % (image, image_new))\n",
        "                # cv2.imwrite(str(image_new), cv2.imread(str(image)))\n",
        "\n",
        "    print('Flattening complete: %g jsons and images' % n)\n",
        "\n",
        "\n",
        "def coco91_to_coco80_class():  # converts 80-index (val2014) to 91-index (paper)\n",
        "    # https://tech.amikelive.com/node-718/what-object-categories-labels-are-in-coco-dataset/\n",
        "    x = [0, 1, 2, 3, 4, 5, 6, 7, 8, 9, 10, None, 11, 12, 13, 14, 15, 16, 17, 18, 19, 20, 21, 22, 23, None, 24, 25, None,\n",
        "         None, 26, 27, 28, 29, 30, 31, 32, 33, 34, 35, 36, 37, 38, 39, None, 40, 41, 42, 43, 44, 45, 46, 47, 48, 49, 50,\n",
        "         51, 52, 53, 54, 55, 56, 57, 58, 59, None, 60, None, None, 61, None, 62, 63, 64, 65, 66, 67, 68, 69, 70, 71, 72,\n",
        "         None, 73, 74, 75, 76, 77, 78, 79, None]\n",
        "    return x\n"
      ]
    },
    {
      "cell_type": "code",
      "execution_count": null,
      "metadata": {
        "id": "3BSTtuYGQ2jv"
      },
      "outputs": [],
      "source": [
        "import contextlib\n",
        "import json\n",
        "\n",
        "import cv2\n",
        "import pandas as pd\n",
        "from PIL import Image\n",
        "from collections import defaultdict\n",
        "\n",
        "def min_index(arr1, arr2):\n",
        "    \"\"\"Find a pair of indexes with the shortest distance. \n",
        "    Args:\n",
        "        arr1: (N, 2).\n",
        "        arr2: (M, 2).\n",
        "    Return:\n",
        "        a pair of indexes(tuple).\n",
        "    \"\"\"\n",
        "    dis = ((arr1[:, None, :] - arr2[None, :, :]) ** 2).sum(-1)\n",
        "    return np.unravel_index(np.argmin(dis, axis=None), dis.shape)\n",
        "\n",
        "\n",
        "def merge_multi_segment(segments):\n",
        "    \"\"\"Merge multi segments to one list.\n",
        "    Find the coordinates with min distance between each segment,\n",
        "    then connect these coordinates with one thin line to merge all \n",
        "    segments into one.\n",
        "\n",
        "    Args:\n",
        "        segments(List(List)): original segmentations in coco's json file.\n",
        "            like [segmentation1, segmentation2,...], \n",
        "            each segmentation is a list of coordinates.\n",
        "    \"\"\"\n",
        "    s = []\n",
        "    segments = [np.array(i).reshape(-1, 2) for i in segments]\n",
        "    idx_list = [[] for _ in range(len(segments))]\n",
        "\n",
        "    # record the indexes with min distance between each segment\n",
        "    for i in range(1, len(segments)):\n",
        "        idx1, idx2 = min_index(segments[i - 1], segments[i])\n",
        "        idx_list[i - 1].append(idx1)\n",
        "        idx_list[i].append(idx2)\n",
        "\n",
        "    # use two round to connect all the segments\n",
        "    for k in range(2):\n",
        "        # forward connection\n",
        "        if k == 0:\n",
        "            for i, idx in enumerate(idx_list):\n",
        "                # middle segments have two indexes\n",
        "                # reverse the index of middle segments\n",
        "                if len(idx) == 2 and idx[0] > idx[1]:\n",
        "                    idx = idx[::-1]\n",
        "                    segments[i] = segments[i][::-1, :]\n",
        "\n",
        "                segments[i] = np.roll(segments[i], -idx[0], axis=0)\n",
        "                segments[i] = np.concatenate([segments[i], segments[i][:1]])\n",
        "                # deal with the first segment and the last one\n",
        "                if i in [0, len(idx_list) - 1]:\n",
        "                    s.append(segments[i])\n",
        "                else:\n",
        "                    idx = [0, idx[1] - idx[0]]\n",
        "                    s.append(segments[i][idx[0]:idx[1] + 1])\n",
        "\n",
        "        else:\n",
        "            for i in range(len(idx_list) - 1, -1, -1):\n",
        "                if i not in [0, len(idx_list) - 1]:\n",
        "                    idx = idx_list[i]\n",
        "                    nidx = abs(idx[1] - idx[0])\n",
        "                    s.append(segments[i][nidx:])\n",
        "    return s\n",
        "\n",
        "\n",
        "def delete_dsstore(path='../datasets'):\n",
        "    # Delete apple .DS_store files\n",
        "    from pathlib import Path\n",
        "    files = list(Path(path).rglob('.DS_store'))\n",
        "    print(files)\n",
        "    for f in files:\n",
        "        f.unlink()"
      ]
    },
    {
      "cell_type": "code",
      "execution_count": null,
      "metadata": {
        "id": "cW6tf1BXPgfJ"
      },
      "outputs": [],
      "source": [
        "def convert_bbox_coco2yolo(img_width, img_height, bbox):\n",
        "    \"\"\"\n",
        "    Convert bounding box from COCO  format to YOLO format\n",
        "\n",
        "    Parameters\n",
        "    ----------\n",
        "    img_width : int\n",
        "        width of image\n",
        "    img_height : int\n",
        "        height of image\n",
        "    bbox : list[int]\n",
        "        bounding box annotation in COCO format: \n",
        "        [top left x position, top left y position, width, height]\n",
        "\n",
        "    Returns\n",
        "    -------\n",
        "    list[float]\n",
        "        bounding box annotation in YOLO format: \n",
        "        [x_center_rel, y_center_rel, width_rel, height_rel]\n",
        "    \"\"\"\n",
        "    \n",
        "    # YOLO bounding box format: [x_center, y_center, width, height]\n",
        "    # (float values relative to width and height of image)\n",
        "    x_tl, y_tl, w, h = bbox\n",
        "\n",
        "    dw = 1.0 / img_width\n",
        "    dh = 1.0 / img_height\n",
        "\n",
        "    x_center = x_tl + w / 2.0\n",
        "    y_center = y_tl + h / 2.0\n",
        "\n",
        "    x = x_center * dw\n",
        "    y = y_center * dh\n",
        "    w = w * dw\n",
        "    h = h * dh\n",
        "\n",
        "    return [x, y, w, h]"
      ]
    },
    {
      "cell_type": "code",
      "execution_count": null,
      "metadata": {
        "id": "vzGh_s9tPgfK"
      },
      "outputs": [],
      "source": [
        "import os\n",
        "import json\n",
        "from tqdm import tqdm\n",
        "import shutil\n",
        "\n",
        "def make_folders(path):\n",
        "    if os.path.exists(path):\n",
        "        shutil.rmtree(path)\n",
        "    os.makedirs(path)\n",
        "    return path\n",
        "\n",
        "\n",
        "def convert_coco_json_to_yolo_txt(output_path, json_file,use_segments=True):\n",
        "\n",
        "    import pandas as pd\n",
        "    import numpy as np\n",
        "    import os\n",
        "    make_folders(output_path)\n",
        "\n",
        "    df_img_id = []\n",
        "    df_img_name = []\n",
        "    df_img_width = []\n",
        "    df_img_height = []\n",
        "    with open(json_file) as f:\n",
        "        json_data = json.load(f)\n",
        "    print('ekstraksi dari json :',json_file)\n",
        "\n",
        "    # write _darknet.labels, which holds names of all classes (one class per line)\n",
        "    label_file = os.path.join(output_path, \"_darknet.labels.txt\")\n",
        "    with open(label_file, \"w\") as f:\n",
        "        for image in tqdm(json_data[\"images\"], desc=\"Annotation txt for each iamge\"):\n",
        "            img_id = image[\"id\"]\n",
        "            #img_name = image[\"file_name\"]\n",
        "            img_name = os.path.basename(image[\"file_name\"])\n",
        "            print(\"checking :\", img_name,\"and copying images to output path\")\n",
        "            json_images = os.path.dirname(json_file)+\"/\"+image[\"file_name\"]\n",
        "            \n",
        "            !cp -R {json_images} {output_path}\n",
        "            img_width = image[\"width\"]\n",
        "            img_height = image[\"height\"]\n",
        "            df_img_id.append(img_id)\n",
        "            df_img_name.append(img_name)\n",
        "            df_img_width.append(img_width)\n",
        "            df_img_height.append(img_height)\n",
        "        \n",
        "            anno_in_image = [anno for anno in json_data[\"annotations\"] if anno[\"image_id\"] == img_id]\n",
        "            #anno_txt = os.path.join(output_path, img_name.split(\".\")[0] + \".txt\")\n",
        "            anno_txt = os.path.join(output_path, img_name.replace(\".jpg\",\".txt\"))\n",
        "\n",
        "            h, w, f = image['height'], image['width'], image['file_name']\n",
        "            bboxes = []\n",
        "            segments = []\n",
        "            with open(anno_txt, \"w\") as f:\n",
        "                for anno in anno_in_image:\n",
        "                    category = anno[\"category_id\"]\n",
        "                    bbox_COCO = anno[\"bbox\"]\n",
        "                    #x, y, w, h = convert_bbox_coco2yolo(img_width, img_height, bbox_COCO)\n",
        "                    if anno['iscrowd']:\n",
        "                        continue\n",
        "                    # The COCO box format is [top left x, top left y, width, height]\n",
        "                    box = np.array(anno['bbox'], dtype=np.float64)\n",
        "                    box[:2] += box[2:] / 2  # xy top-left corner to center\n",
        "                    box[[0, 2]] /= w  # normalize x\n",
        "                    box[[1, 3]] /= h  # normalize y\n",
        "                    if box[2] <= 0 or box[3] <= 0:  # if w <= 0 and h <= 0\n",
        "                        continue\n",
        "                    #cls = coco80[anno['category_id'] - 1] if cls91to80 else anno['category_id'] - 1  # class\n",
        "                    cls = anno['category_id'] - 1\n",
        "                    box = [cls] + box.tolist()\n",
        "                    if box not in bboxes:\n",
        "                        bboxes.append(box)\n",
        "                    # Segments\n",
        "                    if use_segments:\n",
        "                        if len(anno['segmentation']) > 1:\n",
        "                            s = merge_multi_segment(anno['segmentation'])\n",
        "                            s = (np.concatenate(s, axis=0) / np.array([w, h])).reshape(-1).tolist()\n",
        "                        else:\n",
        "                            s = [j for i in anno['segmentation'] for j in i]  # all segments concatenated\n",
        "                            s = (np.array(s).reshape(-1, 2) / np.array([w, h])).reshape(-1).tolist()\n",
        "                        s = [cls] + s\n",
        "                        if s not in segments:\n",
        "                            segments.append(s)\n",
        "\n",
        "                    last_iter=len(bboxes)-1\n",
        "                    line = *(segments[last_iter] if use_segments else bboxes[last_iter]),  # cls, box or segments\n",
        "                    f.write(('%g ' * len(line)).rstrip() % line + '\\n')\n",
        "                print(\"that images contains class:\",len(bboxes),\"objects\")\n",
        "\n",
        "    #print(\"Converting COCO Json to YOLO txt finished!\")\n",
        "    #json_images = os.path.dirname(json_file)+\"/*.jpg\"\n",
        "    \n",
        "    #print(\"Copying images to output path\")\n",
        "    #!cp -R {json_images} {output_path}\n",
        "    \n",
        "    print(\"creating category_id and category name in darknet.labels\")\n",
        "    with open(label_file, \"w\") as f:\n",
        "        for category in tqdm(json_data[\"categories\"], desc=\"Categories\"):\n",
        "            category_name = category[\"name\"]\n",
        "            print(category_name)\n",
        "            f.write(f\"{category_name}\\n\")\n",
        "\n",
        "    print(\"Finish\")"
      ]
    },
    {
      "cell_type": "code",
      "execution_count": null,
      "metadata": {
        "colab": {
          "base_uri": "https://localhost:8080/"
        },
        "id": "0hbraoKMPgfN",
        "outputId": "98b0e723-a6e5-47e7-dd95-a0e6ad89603d"
      },
      "outputs": [
        {
          "output_type": "stream",
          "name": "stdout",
          "text": [
            "ekstraksi dari json : /content/instances_Validation.json\n"
          ]
        },
        {
          "output_type": "stream",
          "name": "stderr",
          "text": [
            "\rAnnotation txt for each iamge:   0%|          | 0/120 [00:00<?, ?it/s]"
          ]
        },
        {
          "output_type": "stream",
          "name": "stdout",
          "text": [
            "checking : frame_12_0.jpg and copying images to output path\n",
            "cp: cannot stat '/content/frame_12_0.jpg': No such file or directory\n"
          ]
        },
        {
          "output_type": "stream",
          "name": "stderr",
          "text": [
            "\rAnnotation txt for each iamge:   1%|          | 1/120 [00:00<00:13,  9.08it/s]"
          ]
        },
        {
          "output_type": "stream",
          "name": "stdout",
          "text": [
            "that images contains class: 6 objects\n",
            "checking : frame_12_10000.jpg and copying images to output path\n",
            "cp: cannot stat '/content/frame_12_10000.jpg': No such file or directory\n"
          ]
        },
        {
          "output_type": "stream",
          "name": "stderr",
          "text": [
            "\rAnnotation txt for each iamge:   2%|▏         | 2/120 [00:00<00:13,  8.93it/s]"
          ]
        },
        {
          "output_type": "stream",
          "name": "stdout",
          "text": [
            "that images contains class: 9 objects\n",
            "checking : frame_12_10200.jpg and copying images to output path\n",
            "cp: cannot stat '/content/frame_12_10200.jpg': No such file or directory\n"
          ]
        },
        {
          "output_type": "stream",
          "name": "stderr",
          "text": [
            "\rAnnotation txt for each iamge:   2%|▎         | 3/120 [00:00<00:13,  8.96it/s]"
          ]
        },
        {
          "output_type": "stream",
          "name": "stdout",
          "text": [
            "that images contains class: 8 objects\n",
            "checking : frame_12_10400.jpg and copying images to output path\n",
            "cp: cannot stat '/content/frame_12_10400.jpg': No such file or directory\n"
          ]
        },
        {
          "output_type": "stream",
          "name": "stderr",
          "text": [
            "\rAnnotation txt for each iamge:   3%|▎         | 4/120 [00:00<00:12,  9.00it/s]"
          ]
        },
        {
          "output_type": "stream",
          "name": "stdout",
          "text": [
            "that images contains class: 7 objects\n",
            "checking : frame_12_11200.jpg and copying images to output path\n",
            "cp: cannot stat '/content/frame_12_11200.jpg': No such file or directory\n"
          ]
        },
        {
          "output_type": "stream",
          "name": "stderr",
          "text": [
            "\rAnnotation txt for each iamge:   4%|▍         | 5/120 [00:00<00:12,  9.01it/s]"
          ]
        },
        {
          "output_type": "stream",
          "name": "stdout",
          "text": [
            "that images contains class: 7 objects\n",
            "checking : frame_12_11600.jpg and copying images to output path\n",
            "cp: cannot stat '/content/frame_12_11600.jpg': No such file or directory\n"
          ]
        },
        {
          "output_type": "stream",
          "name": "stderr",
          "text": [
            "\rAnnotation txt for each iamge:   5%|▌         | 6/120 [00:00<00:12,  8.88it/s]"
          ]
        },
        {
          "output_type": "stream",
          "name": "stdout",
          "text": [
            "that images contains class: 8 objects\n",
            "checking : frame_12_11900.jpg and copying images to output path\n",
            "cp: cannot stat '/content/frame_12_11900.jpg': No such file or directory\n"
          ]
        },
        {
          "output_type": "stream",
          "name": "stderr",
          "text": [
            "\rAnnotation txt for each iamge:   6%|▌         | 7/120 [00:00<00:12,  8.89it/s]"
          ]
        },
        {
          "output_type": "stream",
          "name": "stdout",
          "text": [
            "that images contains class: 8 objects\n",
            "checking : frame_12_12000.jpg and copying images to output path\n",
            "cp: cannot stat '/content/frame_12_12000.jpg': No such file or directory\n"
          ]
        },
        {
          "output_type": "stream",
          "name": "stderr",
          "text": [
            "\rAnnotation txt for each iamge:   7%|▋         | 8/120 [00:00<00:12,  8.97it/s]"
          ]
        },
        {
          "output_type": "stream",
          "name": "stdout",
          "text": [
            "that images contains class: 8 objects\n",
            "checking : frame_12_12800.jpg and copying images to output path\n",
            "cp: cannot stat '/content/frame_12_12800.jpg': No such file or directory\n"
          ]
        },
        {
          "output_type": "stream",
          "name": "stderr",
          "text": [
            "\rAnnotation txt for each iamge:   8%|▊         | 9/120 [00:01<00:12,  9.00it/s]"
          ]
        },
        {
          "output_type": "stream",
          "name": "stdout",
          "text": [
            "that images contains class: 6 objects\n",
            "checking : frame_12_13200.jpg and copying images to output path\n",
            "cp: cannot stat '/content/frame_12_13200.jpg': No such file or directory\n"
          ]
        },
        {
          "output_type": "stream",
          "name": "stderr",
          "text": [
            "\rAnnotation txt for each iamge:   8%|▊         | 10/120 [00:01<00:12,  8.93it/s]"
          ]
        },
        {
          "output_type": "stream",
          "name": "stdout",
          "text": [
            "that images contains class: 6 objects\n",
            "checking : frame_12_13600.jpg and copying images to output path\n",
            "cp: cannot stat '/content/frame_12_13600.jpg': No such file or directory\n"
          ]
        },
        {
          "output_type": "stream",
          "name": "stderr",
          "text": [
            "\rAnnotation txt for each iamge:   9%|▉         | 11/120 [00:01<00:12,  8.92it/s]"
          ]
        },
        {
          "output_type": "stream",
          "name": "stdout",
          "text": [
            "that images contains class: 6 objects\n",
            "checking : frame_12_14400.jpg and copying images to output path\n",
            "cp: cannot stat '/content/frame_12_14400.jpg': No such file or directory\n"
          ]
        },
        {
          "output_type": "stream",
          "name": "stderr",
          "text": [
            "\rAnnotation txt for each iamge:  10%|█         | 12/120 [00:01<00:12,  8.92it/s]"
          ]
        },
        {
          "output_type": "stream",
          "name": "stdout",
          "text": [
            "that images contains class: 6 objects\n",
            "checking : frame_12_14800.jpg and copying images to output path\n",
            "cp: cannot stat '/content/frame_12_14800.jpg': No such file or directory\n"
          ]
        },
        {
          "output_type": "stream",
          "name": "stderr",
          "text": [
            "\rAnnotation txt for each iamge:  11%|█         | 13/120 [00:01<00:11,  9.03it/s]"
          ]
        },
        {
          "output_type": "stream",
          "name": "stdout",
          "text": [
            "that images contains class: 7 objects\n",
            "checking : frame_12_15200.jpg and copying images to output path\n",
            "cp: cannot stat '/content/frame_12_15200.jpg': No such file or directory\n"
          ]
        },
        {
          "output_type": "stream",
          "name": "stderr",
          "text": [
            "\rAnnotation txt for each iamge:  12%|█▏        | 14/120 [00:01<00:11,  9.05it/s]"
          ]
        },
        {
          "output_type": "stream",
          "name": "stdout",
          "text": [
            "that images contains class: 7 objects\n",
            "checking : frame_12_15300.jpg and copying images to output path\n",
            "cp: cannot stat '/content/frame_12_15300.jpg': No such file or directory\n"
          ]
        },
        {
          "output_type": "stream",
          "name": "stderr",
          "text": [
            "\rAnnotation txt for each iamge:  12%|█▎        | 15/120 [00:01<00:11,  9.00it/s]"
          ]
        },
        {
          "output_type": "stream",
          "name": "stdout",
          "text": [
            "that images contains class: 7 objects\n",
            "checking : frame_12_1600.jpg and copying images to output path\n",
            "cp: cannot stat '/content/frame_12_1600.jpg': No such file or directory\n"
          ]
        },
        {
          "output_type": "stream",
          "name": "stderr",
          "text": [
            "\rAnnotation txt for each iamge:  13%|█▎        | 16/120 [00:01<00:11,  8.96it/s]"
          ]
        },
        {
          "output_type": "stream",
          "name": "stdout",
          "text": [
            "that images contains class: 7 objects\n",
            "checking : frame_12_16000.jpg and copying images to output path\n",
            "cp: cannot stat '/content/frame_12_16000.jpg': No such file or directory\n"
          ]
        },
        {
          "output_type": "stream",
          "name": "stderr",
          "text": [
            "\rAnnotation txt for each iamge:  14%|█▍        | 17/120 [00:01<00:11,  8.99it/s]"
          ]
        },
        {
          "output_type": "stream",
          "name": "stdout",
          "text": [
            "that images contains class: 6 objects\n",
            "checking : frame_12_16400.jpg and copying images to output path\n",
            "cp: cannot stat '/content/frame_12_16400.jpg': No such file or directory\n"
          ]
        },
        {
          "output_type": "stream",
          "name": "stderr",
          "text": [
            "\rAnnotation txt for each iamge:  15%|█▌        | 18/120 [00:02<00:11,  9.11it/s]"
          ]
        },
        {
          "output_type": "stream",
          "name": "stdout",
          "text": [
            "that images contains class: 7 objects\n",
            "checking : frame_12_16800.jpg and copying images to output path\n",
            "cp: cannot stat '/content/frame_12_16800.jpg': No such file or directory\n"
          ]
        },
        {
          "output_type": "stream",
          "name": "stderr",
          "text": [
            "\rAnnotation txt for each iamge:  16%|█▌        | 19/120 [00:02<00:10,  9.20it/s]"
          ]
        },
        {
          "output_type": "stream",
          "name": "stdout",
          "text": [
            "that images contains class: 7 objects\n",
            "checking : frame_12_1700.jpg and copying images to output path\n",
            "cp: cannot stat '/content/frame_12_1700.jpg': No such file or directory\n"
          ]
        },
        {
          "output_type": "stream",
          "name": "stderr",
          "text": [
            "\rAnnotation txt for each iamge:  17%|█▋        | 20/120 [00:02<00:10,  9.16it/s]"
          ]
        },
        {
          "output_type": "stream",
          "name": "stdout",
          "text": [
            "that images contains class: 7 objects\n",
            "checking : frame_12_17000.jpg and copying images to output path\n",
            "cp: cannot stat '/content/frame_12_17000.jpg': No such file or directory\n"
          ]
        },
        {
          "output_type": "stream",
          "name": "stderr",
          "text": [
            "\rAnnotation txt for each iamge:  18%|█▊        | 21/120 [00:02<00:10,  9.18it/s]"
          ]
        },
        {
          "output_type": "stream",
          "name": "stdout",
          "text": [
            "that images contains class: 8 objects\n",
            "checking : frame_12_17600.jpg and copying images to output path\n",
            "cp: cannot stat '/content/frame_12_17600.jpg': No such file or directory\n"
          ]
        },
        {
          "output_type": "stream",
          "name": "stderr",
          "text": [
            "\rAnnotation txt for each iamge:  18%|█▊        | 22/120 [00:02<00:10,  8.99it/s]"
          ]
        },
        {
          "output_type": "stream",
          "name": "stdout",
          "text": [
            "that images contains class: 7 objects\n",
            "checking : frame_12_18000.jpg and copying images to output path\n",
            "cp: cannot stat '/content/frame_12_18000.jpg': No such file or directory\n"
          ]
        },
        {
          "output_type": "stream",
          "name": "stderr",
          "text": [
            "\rAnnotation txt for each iamge:  19%|█▉        | 23/120 [00:02<00:10,  8.97it/s]"
          ]
        },
        {
          "output_type": "stream",
          "name": "stdout",
          "text": [
            "that images contains class: 7 objects\n",
            "checking : frame_12_18400.jpg and copying images to output path\n",
            "cp: cannot stat '/content/frame_12_18400.jpg': No such file or directory\n"
          ]
        },
        {
          "output_type": "stream",
          "name": "stderr",
          "text": [
            "\rAnnotation txt for each iamge:  20%|██        | 24/120 [00:02<00:10,  8.95it/s]"
          ]
        },
        {
          "output_type": "stream",
          "name": "stdout",
          "text": [
            "that images contains class: 7 objects\n",
            "checking : frame_12_18700.jpg and copying images to output path\n",
            "cp: cannot stat '/content/frame_12_18700.jpg': No such file or directory\n"
          ]
        },
        {
          "output_type": "stream",
          "name": "stderr",
          "text": [
            "\rAnnotation txt for each iamge:  21%|██        | 25/120 [00:02<00:10,  8.90it/s]"
          ]
        },
        {
          "output_type": "stream",
          "name": "stdout",
          "text": [
            "that images contains class: 7 objects\n",
            "checking : frame_12_19200.jpg and copying images to output path\n",
            "cp: cannot stat '/content/frame_12_19200.jpg': No such file or directory\n"
          ]
        },
        {
          "output_type": "stream",
          "name": "stderr",
          "text": [
            "\rAnnotation txt for each iamge:  22%|██▏       | 26/120 [00:02<00:10,  8.94it/s]"
          ]
        },
        {
          "output_type": "stream",
          "name": "stdout",
          "text": [
            "that images contains class: 7 objects\n",
            "checking : frame_12_19600.jpg and copying images to output path\n",
            "cp: cannot stat '/content/frame_12_19600.jpg': No such file or directory\n"
          ]
        },
        {
          "output_type": "stream",
          "name": "stderr",
          "text": [
            "\rAnnotation txt for each iamge:  22%|██▎       | 27/120 [00:02<00:10,  9.06it/s]"
          ]
        },
        {
          "output_type": "stream",
          "name": "stdout",
          "text": [
            "that images contains class: 7 objects\n",
            "checking : frame_12_2000.jpg and copying images to output path\n",
            "cp: cannot stat '/content/frame_12_2000.jpg': No such file or directory\n"
          ]
        },
        {
          "output_type": "stream",
          "name": "stderr",
          "text": [
            "\rAnnotation txt for each iamge:  23%|██▎       | 28/120 [00:03<00:10,  9.13it/s]"
          ]
        },
        {
          "output_type": "stream",
          "name": "stdout",
          "text": [
            "that images contains class: 8 objects\n",
            "checking : frame_12_20000.jpg and copying images to output path\n",
            "cp: cannot stat '/content/frame_12_20000.jpg': No such file or directory\n"
          ]
        },
        {
          "output_type": "stream",
          "name": "stderr",
          "text": [
            "\rAnnotation txt for each iamge:  24%|██▍       | 29/120 [00:03<00:09,  9.15it/s]"
          ]
        },
        {
          "output_type": "stream",
          "name": "stdout",
          "text": [
            "that images contains class: 7 objects\n",
            "checking : frame_12_20800.jpg and copying images to output path\n",
            "cp: cannot stat '/content/frame_12_20800.jpg': No such file or directory\n"
          ]
        },
        {
          "output_type": "stream",
          "name": "stderr",
          "text": [
            "\rAnnotation txt for each iamge:  25%|██▌       | 30/120 [00:03<00:09,  9.04it/s]"
          ]
        },
        {
          "output_type": "stream",
          "name": "stdout",
          "text": [
            "that images contains class: 7 objects\n",
            "checking : frame_12_21200.jpg and copying images to output path\n",
            "cp: cannot stat '/content/frame_12_21200.jpg': No such file or directory\n"
          ]
        },
        {
          "output_type": "stream",
          "name": "stderr",
          "text": [
            "\rAnnotation txt for each iamge:  26%|██▌       | 31/120 [00:03<00:09,  9.13it/s]"
          ]
        },
        {
          "output_type": "stream",
          "name": "stdout",
          "text": [
            "that images contains class: 7 objects\n",
            "checking : frame_12_21600.jpg and copying images to output path\n",
            "cp: cannot stat '/content/frame_12_21600.jpg': No such file or directory\n"
          ]
        },
        {
          "output_type": "stream",
          "name": "stderr",
          "text": [
            "\rAnnotation txt for each iamge:  27%|██▋       | 32/120 [00:03<00:09,  9.17it/s]"
          ]
        },
        {
          "output_type": "stream",
          "name": "stdout",
          "text": [
            "that images contains class: 7 objects\n",
            "checking : frame_12_22100.jpg and copying images to output path\n",
            "cp: cannot stat '/content/frame_12_22100.jpg': No such file or directory\n"
          ]
        },
        {
          "output_type": "stream",
          "name": "stderr",
          "text": [
            "\rAnnotation txt for each iamge:  28%|██▊       | 33/120 [00:03<00:09,  9.11it/s]"
          ]
        },
        {
          "output_type": "stream",
          "name": "stdout",
          "text": [
            "that images contains class: 7 objects\n",
            "checking : frame_12_22400.jpg and copying images to output path\n",
            "cp: cannot stat '/content/frame_12_22400.jpg': No such file or directory\n"
          ]
        },
        {
          "output_type": "stream",
          "name": "stderr",
          "text": [
            "\rAnnotation txt for each iamge:  28%|██▊       | 34/120 [00:03<00:09,  9.09it/s]"
          ]
        },
        {
          "output_type": "stream",
          "name": "stdout",
          "text": [
            "that images contains class: 7 objects\n",
            "checking : frame_12_22800.jpg and copying images to output path\n",
            "cp: cannot stat '/content/frame_12_22800.jpg': No such file or directory\n"
          ]
        },
        {
          "output_type": "stream",
          "name": "stderr",
          "text": [
            "\rAnnotation txt for each iamge:  29%|██▉       | 35/120 [00:03<00:09,  9.04it/s]"
          ]
        },
        {
          "output_type": "stream",
          "name": "stdout",
          "text": [
            "that images contains class: 7 objects\n",
            "checking : frame_12_23200.jpg and copying images to output path\n",
            "cp: cannot stat '/content/frame_12_23200.jpg': No such file or directory\n"
          ]
        },
        {
          "output_type": "stream",
          "name": "stderr",
          "text": [
            "\rAnnotation txt for each iamge:  30%|███       | 36/120 [00:03<00:09,  9.00it/s]"
          ]
        },
        {
          "output_type": "stream",
          "name": "stdout",
          "text": [
            "that images contains class: 7 objects\n",
            "checking : frame_12_23800.jpg and copying images to output path\n",
            "cp: cannot stat '/content/frame_12_23800.jpg': No such file or directory\n"
          ]
        },
        {
          "output_type": "stream",
          "name": "stderr",
          "text": [
            "\rAnnotation txt for each iamge:  31%|███       | 37/120 [00:04<00:09,  9.10it/s]"
          ]
        },
        {
          "output_type": "stream",
          "name": "stdout",
          "text": [
            "that images contains class: 7 objects\n",
            "checking : frame_12_2400.jpg and copying images to output path\n",
            "cp: cannot stat '/content/frame_12_2400.jpg': No such file or directory\n"
          ]
        },
        {
          "output_type": "stream",
          "name": "stderr",
          "text": [
            "\rAnnotation txt for each iamge:  32%|███▏      | 38/120 [00:04<00:08,  9.13it/s]"
          ]
        },
        {
          "output_type": "stream",
          "name": "stdout",
          "text": [
            "that images contains class: 7 objects\n",
            "checking : frame_12_24000.jpg and copying images to output path\n",
            "cp: cannot stat '/content/frame_12_24000.jpg': No such file or directory\n"
          ]
        },
        {
          "output_type": "stream",
          "name": "stderr",
          "text": [
            "\rAnnotation txt for each iamge:  32%|███▎      | 39/120 [00:04<00:08,  9.11it/s]"
          ]
        },
        {
          "output_type": "stream",
          "name": "stdout",
          "text": [
            "that images contains class: 6 objects\n",
            "checking : frame_12_24400.jpg and copying images to output path\n",
            "cp: cannot stat '/content/frame_12_24400.jpg': No such file or directory\n"
          ]
        },
        {
          "output_type": "stream",
          "name": "stderr",
          "text": [
            "\rAnnotation txt for each iamge:  33%|███▎      | 40/120 [00:04<00:08,  9.15it/s]"
          ]
        },
        {
          "output_type": "stream",
          "name": "stdout",
          "text": [
            "that images contains class: 7 objects\n",
            "checking : frame_12_24800.jpg and copying images to output path\n",
            "cp: cannot stat '/content/frame_12_24800.jpg': No such file or directory\n"
          ]
        },
        {
          "output_type": "stream",
          "name": "stderr",
          "text": [
            "\rAnnotation txt for each iamge:  34%|███▍      | 41/120 [00:04<00:08,  9.22it/s]"
          ]
        },
        {
          "output_type": "stream",
          "name": "stdout",
          "text": [
            "that images contains class: 9 objects\n",
            "checking : frame_12_25500.jpg and copying images to output path\n",
            "cp: cannot stat '/content/frame_12_25500.jpg': No such file or directory\n"
          ]
        },
        {
          "output_type": "stream",
          "name": "stderr",
          "text": [
            "\rAnnotation txt for each iamge:  35%|███▌      | 42/120 [00:04<00:08,  9.04it/s]"
          ]
        },
        {
          "output_type": "stream",
          "name": "stdout",
          "text": [
            "that images contains class: 9 objects\n",
            "checking : frame_12_25600.jpg and copying images to output path\n",
            "cp: cannot stat '/content/frame_12_25600.jpg': No such file or directory\n"
          ]
        },
        {
          "output_type": "stream",
          "name": "stderr",
          "text": [
            "\rAnnotation txt for each iamge:  36%|███▌      | 43/120 [00:04<00:08,  9.02it/s]"
          ]
        },
        {
          "output_type": "stream",
          "name": "stdout",
          "text": [
            "that images contains class: 9 objects\n",
            "checking : frame_12_26000.jpg and copying images to output path\n",
            "cp: cannot stat '/content/frame_12_26000.jpg': No such file or directory\n"
          ]
        },
        {
          "output_type": "stream",
          "name": "stderr",
          "text": [
            "\rAnnotation txt for each iamge:  37%|███▋      | 44/120 [00:04<00:08,  9.02it/s]"
          ]
        },
        {
          "output_type": "stream",
          "name": "stdout",
          "text": [
            "that images contains class: 9 objects\n",
            "checking : frame_12_26400.jpg and copying images to output path\n",
            "cp: cannot stat '/content/frame_12_26400.jpg': No such file or directory\n"
          ]
        },
        {
          "output_type": "stream",
          "name": "stderr",
          "text": [
            "\rAnnotation txt for each iamge:  38%|███▊      | 45/120 [00:04<00:08,  9.02it/s]"
          ]
        },
        {
          "output_type": "stream",
          "name": "stdout",
          "text": [
            "that images contains class: 8 objects\n",
            "checking : frame_12_27200.jpg and copying images to output path\n",
            "cp: cannot stat '/content/frame_12_27200.jpg': No such file or directory\n"
          ]
        },
        {
          "output_type": "stream",
          "name": "stderr",
          "text": [
            "\rAnnotation txt for each iamge:  38%|███▊      | 46/120 [00:05<00:08,  9.06it/s]"
          ]
        },
        {
          "output_type": "stream",
          "name": "stdout",
          "text": [
            "that images contains class: 10 objects\n",
            "checking : frame_12_27600.jpg and copying images to output path\n",
            "cp: cannot stat '/content/frame_12_27600.jpg': No such file or directory\n"
          ]
        },
        {
          "output_type": "stream",
          "name": "stderr",
          "text": [
            "\rAnnotation txt for each iamge:  39%|███▉      | 47/120 [00:05<00:08,  9.02it/s]"
          ]
        },
        {
          "output_type": "stream",
          "name": "stdout",
          "text": [
            "that images contains class: 10 objects\n",
            "checking : frame_12_3200.jpg and copying images to output path\n",
            "cp: cannot stat '/content/frame_12_3200.jpg': No such file or directory\n"
          ]
        },
        {
          "output_type": "stream",
          "name": "stderr",
          "text": [
            "\rAnnotation txt for each iamge:  40%|████      | 48/120 [00:05<00:07,  9.13it/s]"
          ]
        },
        {
          "output_type": "stream",
          "name": "stdout",
          "text": [
            "that images contains class: 9 objects\n",
            "checking : frame_12_3400.jpg and copying images to output path\n",
            "cp: cannot stat '/content/frame_12_3400.jpg': No such file or directory\n"
          ]
        },
        {
          "output_type": "stream",
          "name": "stderr",
          "text": [
            "\rAnnotation txt for each iamge:  41%|████      | 49/120 [00:05<00:07,  9.20it/s]"
          ]
        },
        {
          "output_type": "stream",
          "name": "stdout",
          "text": [
            "that images contains class: 8 objects\n",
            "checking : frame_12_3600.jpg and copying images to output path\n",
            "cp: cannot stat '/content/frame_12_3600.jpg': No such file or directory\n"
          ]
        },
        {
          "output_type": "stream",
          "name": "stderr",
          "text": [
            "\rAnnotation txt for each iamge:  42%|████▏     | 50/120 [00:05<00:07,  9.20it/s]"
          ]
        },
        {
          "output_type": "stream",
          "name": "stdout",
          "text": [
            "that images contains class: 9 objects\n",
            "checking : frame_12_400.jpg and copying images to output path\n",
            "cp: cannot stat '/content/frame_12_400.jpg': No such file or directory\n"
          ]
        },
        {
          "output_type": "stream",
          "name": "stderr",
          "text": [
            "\rAnnotation txt for each iamge:  42%|████▎     | 51/120 [00:05<00:07,  9.07it/s]"
          ]
        },
        {
          "output_type": "stream",
          "name": "stdout",
          "text": [
            "that images contains class: 7 objects\n",
            "checking : frame_12_4000.jpg and copying images to output path\n",
            "cp: cannot stat '/content/frame_12_4000.jpg': No such file or directory\n"
          ]
        },
        {
          "output_type": "stream",
          "name": "stderr",
          "text": [
            "\rAnnotation txt for each iamge:  43%|████▎     | 52/120 [00:05<00:07,  9.05it/s]"
          ]
        },
        {
          "output_type": "stream",
          "name": "stdout",
          "text": [
            "that images contains class: 9 objects\n",
            "checking : frame_12_4800.jpg and copying images to output path\n",
            "cp: cannot stat '/content/frame_12_4800.jpg': No such file or directory\n"
          ]
        },
        {
          "output_type": "stream",
          "name": "stderr",
          "text": [
            "\rAnnotation txt for each iamge:  44%|████▍     | 53/120 [00:05<00:07,  9.06it/s]"
          ]
        },
        {
          "output_type": "stream",
          "name": "stdout",
          "text": [
            "that images contains class: 8 objects\n",
            "checking : frame_12_5100.jpg and copying images to output path\n",
            "cp: cannot stat '/content/frame_12_5100.jpg': No such file or directory\n"
          ]
        },
        {
          "output_type": "stream",
          "name": "stderr",
          "text": [
            "\rAnnotation txt for each iamge:  45%|████▌     | 54/120 [00:05<00:07,  9.05it/s]"
          ]
        },
        {
          "output_type": "stream",
          "name": "stdout",
          "text": [
            "that images contains class: 7 objects\n",
            "checking : frame_12_5200.jpg and copying images to output path\n",
            "cp: cannot stat '/content/frame_12_5200.jpg': No such file or directory\n"
          ]
        },
        {
          "output_type": "stream",
          "name": "stderr",
          "text": [
            "\rAnnotation txt for each iamge:  46%|████▌     | 55/120 [00:06<00:07,  9.14it/s]"
          ]
        },
        {
          "output_type": "stream",
          "name": "stdout",
          "text": [
            "that images contains class: 7 objects\n",
            "checking : frame_12_5600.jpg and copying images to output path\n",
            "cp: cannot stat '/content/frame_12_5600.jpg': No such file or directory\n"
          ]
        },
        {
          "output_type": "stream",
          "name": "stderr",
          "text": [
            "\rAnnotation txt for each iamge:  47%|████▋     | 56/120 [00:06<00:06,  9.23it/s]"
          ]
        },
        {
          "output_type": "stream",
          "name": "stdout",
          "text": [
            "that images contains class: 8 objects\n",
            "checking : frame_12_6400.jpg and copying images to output path\n",
            "cp: cannot stat '/content/frame_12_6400.jpg': No such file or directory\n"
          ]
        },
        {
          "output_type": "stream",
          "name": "stderr",
          "text": [
            "\rAnnotation txt for each iamge:  48%|████▊     | 57/120 [00:06<00:06,  9.21it/s]"
          ]
        },
        {
          "output_type": "stream",
          "name": "stdout",
          "text": [
            "that images contains class: 8 objects\n",
            "checking : frame_12_6800.jpg and copying images to output path\n",
            "cp: cannot stat '/content/frame_12_6800.jpg': No such file or directory\n"
          ]
        },
        {
          "output_type": "stream",
          "name": "stderr",
          "text": [
            "\rAnnotation txt for each iamge:  48%|████▊     | 58/120 [00:06<00:06,  9.07it/s]"
          ]
        },
        {
          "output_type": "stream",
          "name": "stdout",
          "text": [
            "that images contains class: 8 objects\n",
            "checking : frame_12_7200.jpg and copying images to output path\n",
            "cp: cannot stat '/content/frame_12_7200.jpg': No such file or directory\n"
          ]
        },
        {
          "output_type": "stream",
          "name": "stderr",
          "text": [
            "\rAnnotation txt for each iamge:  49%|████▉     | 59/120 [00:06<00:06,  9.07it/s]"
          ]
        },
        {
          "output_type": "stream",
          "name": "stdout",
          "text": [
            "that images contains class: 8 objects\n",
            "checking : frame_12_800.jpg and copying images to output path\n",
            "cp: cannot stat '/content/frame_12_800.jpg': No such file or directory\n"
          ]
        },
        {
          "output_type": "stream",
          "name": "stderr",
          "text": [
            "\rAnnotation txt for each iamge:  50%|█████     | 60/120 [00:06<00:06,  9.00it/s]"
          ]
        },
        {
          "output_type": "stream",
          "name": "stdout",
          "text": [
            "that images contains class: 7 objects\n",
            "checking : frame_12_8000.jpg and copying images to output path\n",
            "cp: cannot stat '/content/frame_12_8000.jpg': No such file or directory\n"
          ]
        },
        {
          "output_type": "stream",
          "name": "stderr",
          "text": [
            "\rAnnotation txt for each iamge:  51%|█████     | 61/120 [00:06<00:06,  9.03it/s]"
          ]
        },
        {
          "output_type": "stream",
          "name": "stdout",
          "text": [
            "that images contains class: 8 objects\n",
            "checking : frame_12_8400.jpg and copying images to output path\n",
            "cp: cannot stat '/content/frame_12_8400.jpg': No such file or directory\n"
          ]
        },
        {
          "output_type": "stream",
          "name": "stderr",
          "text": [
            "\rAnnotation txt for each iamge:  52%|█████▏    | 62/120 [00:06<00:06,  9.13it/s]"
          ]
        },
        {
          "output_type": "stream",
          "name": "stdout",
          "text": [
            "that images contains class: 6 objects\n",
            "checking : frame_12_8500.jpg and copying images to output path\n",
            "cp: cannot stat '/content/frame_12_8500.jpg': No such file or directory\n"
          ]
        },
        {
          "output_type": "stream",
          "name": "stderr",
          "text": [
            "\rAnnotation txt for each iamge:  52%|█████▎    | 63/120 [00:06<00:06,  9.19it/s]"
          ]
        },
        {
          "output_type": "stream",
          "name": "stdout",
          "text": [
            "that images contains class: 7 objects\n",
            "checking : frame_12_8800.jpg and copying images to output path\n",
            "cp: cannot stat '/content/frame_12_8800.jpg': No such file or directory\n"
          ]
        },
        {
          "output_type": "stream",
          "name": "stderr",
          "text": [
            "\rAnnotation txt for each iamge:  53%|█████▎    | 64/120 [00:07<00:06,  9.19it/s]"
          ]
        },
        {
          "output_type": "stream",
          "name": "stdout",
          "text": [
            "that images contains class: 7 objects\n",
            "checking : frame_12_9600.jpg and copying images to output path\n",
            "cp: cannot stat '/content/frame_12_9600.jpg': No such file or directory\n"
          ]
        },
        {
          "output_type": "stream",
          "name": "stderr",
          "text": [
            "\rAnnotation txt for each iamge:  54%|█████▍    | 65/120 [00:07<00:06,  9.10it/s]"
          ]
        },
        {
          "output_type": "stream",
          "name": "stdout",
          "text": [
            "that images contains class: 7 objects\n",
            "checking : frame_13_0.jpg and copying images to output path\n",
            "cp: cannot stat '/content/frame_13_0.jpg': No such file or directory\n"
          ]
        },
        {
          "output_type": "stream",
          "name": "stderr",
          "text": [
            "\rAnnotation txt for each iamge:  55%|█████▌    | 66/120 [00:07<00:05,  9.18it/s]"
          ]
        },
        {
          "output_type": "stream",
          "name": "stdout",
          "text": [
            "that images contains class: 9 objects\n",
            "checking : frame_13_1600.jpg and copying images to output path\n",
            "cp: cannot stat '/content/frame_13_1600.jpg': No such file or directory\n"
          ]
        },
        {
          "output_type": "stream",
          "name": "stderr",
          "text": [
            "\rAnnotation txt for each iamge:  56%|█████▌    | 67/120 [00:07<00:05,  9.15it/s]"
          ]
        },
        {
          "output_type": "stream",
          "name": "stdout",
          "text": [
            "that images contains class: 9 objects\n",
            "checking : frame_13_1700.jpg and copying images to output path\n",
            "cp: cannot stat '/content/frame_13_1700.jpg': No such file or directory\n"
          ]
        },
        {
          "output_type": "stream",
          "name": "stderr",
          "text": [
            "\rAnnotation txt for each iamge:  57%|█████▋    | 68/120 [00:07<00:05,  9.11it/s]"
          ]
        },
        {
          "output_type": "stream",
          "name": "stdout",
          "text": [
            "that images contains class: 9 objects\n",
            "checking : frame_13_2000.jpg and copying images to output path\n",
            "cp: cannot stat '/content/frame_13_2000.jpg': No such file or directory\n"
          ]
        },
        {
          "output_type": "stream",
          "name": "stderr",
          "text": [
            "\rAnnotation txt for each iamge:  57%|█████▊    | 69/120 [00:07<00:05,  9.02it/s]"
          ]
        },
        {
          "output_type": "stream",
          "name": "stdout",
          "text": [
            "that images contains class: 9 objects\n",
            "checking : frame_13_2400.jpg and copying images to output path\n",
            "cp: cannot stat '/content/frame_13_2400.jpg': No such file or directory\n"
          ]
        },
        {
          "output_type": "stream",
          "name": "stderr",
          "text": [
            "\rAnnotation txt for each iamge:  58%|█████▊    | 70/120 [00:07<00:05,  9.00it/s]"
          ]
        },
        {
          "output_type": "stream",
          "name": "stdout",
          "text": [
            "that images contains class: 8 objects\n",
            "checking : frame_13_3200.jpg and copying images to output path\n",
            "cp: cannot stat '/content/frame_13_3200.jpg': No such file or directory\n"
          ]
        },
        {
          "output_type": "stream",
          "name": "stderr",
          "text": [
            "\rAnnotation txt for each iamge:  59%|█████▉    | 71/120 [00:07<00:05,  9.01it/s]"
          ]
        },
        {
          "output_type": "stream",
          "name": "stdout",
          "text": [
            "that images contains class: 8 objects\n",
            "checking : frame_13_3400.jpg and copying images to output path\n",
            "cp: cannot stat '/content/frame_13_3400.jpg': No such file or directory\n"
          ]
        },
        {
          "output_type": "stream",
          "name": "stderr",
          "text": [
            "\rAnnotation txt for each iamge:  60%|██████    | 72/120 [00:07<00:05,  8.96it/s]"
          ]
        },
        {
          "output_type": "stream",
          "name": "stdout",
          "text": [
            "that images contains class: 8 objects\n",
            "checking : frame_13_3600.jpg and copying images to output path\n",
            "cp: cannot stat '/content/frame_13_3600.jpg': No such file or directory\n"
          ]
        },
        {
          "output_type": "stream",
          "name": "stderr",
          "text": [
            "\rAnnotation txt for each iamge:  61%|██████    | 73/120 [00:08<00:05,  8.95it/s]"
          ]
        },
        {
          "output_type": "stream",
          "name": "stdout",
          "text": [
            "that images contains class: 9 objects\n",
            "checking : frame_13_400.jpg and copying images to output path\n",
            "cp: cannot stat '/content/frame_13_400.jpg': No such file or directory\n"
          ]
        },
        {
          "output_type": "stream",
          "name": "stderr",
          "text": [
            "\rAnnotation txt for each iamge:  62%|██████▏   | 74/120 [00:08<00:05,  8.98it/s]"
          ]
        },
        {
          "output_type": "stream",
          "name": "stdout",
          "text": [
            "that images contains class: 9 objects\n",
            "checking : frame_13_4000.jpg and copying images to output path\n",
            "cp: cannot stat '/content/frame_13_4000.jpg': No such file or directory\n"
          ]
        },
        {
          "output_type": "stream",
          "name": "stderr",
          "text": [
            "\rAnnotation txt for each iamge:  62%|██████▎   | 75/120 [00:08<00:04,  9.07it/s]"
          ]
        },
        {
          "output_type": "stream",
          "name": "stdout",
          "text": [
            "that images contains class: 8 objects\n",
            "checking : frame_13_4800.jpg and copying images to output path\n",
            "cp: cannot stat '/content/frame_13_4800.jpg': No such file or directory\n"
          ]
        },
        {
          "output_type": "stream",
          "name": "stderr",
          "text": [
            "\rAnnotation txt for each iamge:  63%|██████▎   | 76/120 [00:08<00:04,  9.16it/s]"
          ]
        },
        {
          "output_type": "stream",
          "name": "stdout",
          "text": [
            "that images contains class: 8 objects\n",
            "checking : frame_13_5100.jpg and copying images to output path\n",
            "cp: cannot stat '/content/frame_13_5100.jpg': No such file or directory\n"
          ]
        },
        {
          "output_type": "stream",
          "name": "stderr",
          "text": [
            "\rAnnotation txt for each iamge:  64%|██████▍   | 77/120 [00:08<00:04,  9.21it/s]"
          ]
        },
        {
          "output_type": "stream",
          "name": "stdout",
          "text": [
            "that images contains class: 8 objects\n",
            "checking : frame_13_5200.jpg and copying images to output path\n",
            "cp: cannot stat '/content/frame_13_5200.jpg': No such file or directory\n"
          ]
        },
        {
          "output_type": "stream",
          "name": "stderr",
          "text": [
            "\rAnnotation txt for each iamge:  65%|██████▌   | 78/120 [00:08<00:04,  9.21it/s]"
          ]
        },
        {
          "output_type": "stream",
          "name": "stdout",
          "text": [
            "that images contains class: 8 objects\n",
            "checking : frame_13_5600.jpg and copying images to output path\n",
            "cp: cannot stat '/content/frame_13_5600.jpg': No such file or directory\n"
          ]
        },
        {
          "output_type": "stream",
          "name": "stderr",
          "text": [
            "\rAnnotation txt for each iamge:  66%|██████▌   | 79/120 [00:08<00:04,  9.11it/s]"
          ]
        },
        {
          "output_type": "stream",
          "name": "stdout",
          "text": [
            "that images contains class: 10 objects\n",
            "checking : frame_13_6400.jpg and copying images to output path\n",
            "cp: cannot stat '/content/frame_13_6400.jpg': No such file or directory\n"
          ]
        },
        {
          "output_type": "stream",
          "name": "stderr",
          "text": [
            "\rAnnotation txt for each iamge:  67%|██████▋   | 80/120 [00:08<00:04,  9.08it/s]"
          ]
        },
        {
          "output_type": "stream",
          "name": "stdout",
          "text": [
            "that images contains class: 9 objects\n",
            "checking : frame_13_6800.jpg and copying images to output path\n",
            "cp: cannot stat '/content/frame_13_6800.jpg': No such file or directory\n"
          ]
        },
        {
          "output_type": "stream",
          "name": "stderr",
          "text": [
            "\rAnnotation txt for each iamge:  68%|██████▊   | 81/120 [00:08<00:04,  9.03it/s]"
          ]
        },
        {
          "output_type": "stream",
          "name": "stdout",
          "text": [
            "that images contains class: 9 objects\n",
            "checking : frame_13_7200.jpg and copying images to output path\n",
            "cp: cannot stat '/content/frame_13_7200.jpg': No such file or directory\n"
          ]
        },
        {
          "output_type": "stream",
          "name": "stderr",
          "text": [
            "\rAnnotation txt for each iamge:  68%|██████▊   | 82/120 [00:09<00:04,  9.02it/s]"
          ]
        },
        {
          "output_type": "stream",
          "name": "stdout",
          "text": [
            "that images contains class: 9 objects\n",
            "checking : frame_13_800.jpg and copying images to output path\n",
            "cp: cannot stat '/content/frame_13_800.jpg': No such file or directory\n"
          ]
        },
        {
          "output_type": "stream",
          "name": "stderr",
          "text": [
            "\rAnnotation txt for each iamge:  69%|██████▉   | 83/120 [00:09<00:04,  9.10it/s]"
          ]
        },
        {
          "output_type": "stream",
          "name": "stdout",
          "text": [
            "that images contains class: 10 objects\n",
            "checking : frame_13_8000.jpg and copying images to output path\n",
            "cp: cannot stat '/content/frame_13_8000.jpg': No such file or directory\n"
          ]
        },
        {
          "output_type": "stream",
          "name": "stderr",
          "text": [
            "\rAnnotation txt for each iamge:  70%|███████   | 84/120 [00:09<00:03,  9.17it/s]"
          ]
        },
        {
          "output_type": "stream",
          "name": "stdout",
          "text": [
            "that images contains class: 8 objects\n",
            "checking : frame_13_8400.jpg and copying images to output path\n",
            "cp: cannot stat '/content/frame_13_8400.jpg': No such file or directory\n"
          ]
        },
        {
          "output_type": "stream",
          "name": "stderr",
          "text": [
            "\rAnnotation txt for each iamge:  71%|███████   | 85/120 [00:09<00:03,  9.22it/s]"
          ]
        },
        {
          "output_type": "stream",
          "name": "stdout",
          "text": [
            "that images contains class: 9 objects\n",
            "checking : frame_13_8500.jpg and copying images to output path\n",
            "cp: cannot stat '/content/frame_13_8500.jpg': No such file or directory\n"
          ]
        },
        {
          "output_type": "stream",
          "name": "stderr",
          "text": [
            "\rAnnotation txt for each iamge:  72%|███████▏  | 86/120 [00:09<00:03,  9.25it/s]"
          ]
        },
        {
          "output_type": "stream",
          "name": "stdout",
          "text": [
            "that images contains class: 9 objects\n",
            "checking : frame_20_24000.jpg and copying images to output path\n",
            "cp: cannot stat '/content/frame_20_24000.jpg': No such file or directory\n"
          ]
        },
        {
          "output_type": "stream",
          "name": "stderr",
          "text": [
            "\rAnnotation txt for each iamge:  72%|███████▎  | 87/120 [00:09<00:03,  9.29it/s]"
          ]
        },
        {
          "output_type": "stream",
          "name": "stdout",
          "text": [
            "that images contains class: 7 objects\n",
            "checking : frame_20_24400.jpg and copying images to output path\n",
            "cp: cannot stat '/content/frame_20_24400.jpg': No such file or directory\n"
          ]
        },
        {
          "output_type": "stream",
          "name": "stderr",
          "text": [
            "\rAnnotation txt for each iamge:  73%|███████▎  | 88/120 [00:09<00:03,  9.32it/s]"
          ]
        },
        {
          "output_type": "stream",
          "name": "stdout",
          "text": [
            "that images contains class: 6 objects\n",
            "checking : frame_20_24800.jpg and copying images to output path\n",
            "cp: cannot stat '/content/frame_20_24800.jpg': No such file or directory\n"
          ]
        },
        {
          "output_type": "stream",
          "name": "stderr",
          "text": [
            "\rAnnotation txt for each iamge:  74%|███████▍  | 89/120 [00:09<00:03,  9.34it/s]"
          ]
        },
        {
          "output_type": "stream",
          "name": "stdout",
          "text": [
            "that images contains class: 5 objects\n",
            "checking : frame_20_25500.jpg and copying images to output path\n",
            "cp: cannot stat '/content/frame_20_25500.jpg': No such file or directory\n"
          ]
        },
        {
          "output_type": "stream",
          "name": "stderr",
          "text": [
            "\rAnnotation txt for each iamge:  75%|███████▌  | 90/120 [00:09<00:03,  9.36it/s]"
          ]
        },
        {
          "output_type": "stream",
          "name": "stdout",
          "text": [
            "that images contains class: 7 objects\n",
            "checking : frame_20_25600.jpg and copying images to output path\n",
            "cp: cannot stat '/content/frame_20_25600.jpg': No such file or directory\n"
          ]
        },
        {
          "output_type": "stream",
          "name": "stderr",
          "text": [
            "\rAnnotation txt for each iamge:  76%|███████▌  | 91/120 [00:10<00:03,  9.37it/s]"
          ]
        },
        {
          "output_type": "stream",
          "name": "stdout",
          "text": [
            "that images contains class: 7 objects\n",
            "checking : frame_20_26000.jpg and copying images to output path\n",
            "cp: cannot stat '/content/frame_20_26000.jpg': No such file or directory\n"
          ]
        },
        {
          "output_type": "stream",
          "name": "stderr",
          "text": [
            "\rAnnotation txt for each iamge:  77%|███████▋  | 92/120 [00:10<00:02,  9.38it/s]"
          ]
        },
        {
          "output_type": "stream",
          "name": "stdout",
          "text": [
            "that images contains class: 5 objects\n",
            "checking : frame_20_26400.jpg and copying images to output path\n",
            "cp: cannot stat '/content/frame_20_26400.jpg': No such file or directory\n"
          ]
        },
        {
          "output_type": "stream",
          "name": "stderr",
          "text": [
            "\rAnnotation txt for each iamge:  78%|███████▊  | 93/120 [00:10<00:02,  9.39it/s]"
          ]
        },
        {
          "output_type": "stream",
          "name": "stdout",
          "text": [
            "that images contains class: 7 objects\n",
            "checking : frame_20_27200.jpg and copying images to output path\n",
            "cp: cannot stat '/content/frame_20_27200.jpg': No such file or directory\n"
          ]
        },
        {
          "output_type": "stream",
          "name": "stderr",
          "text": [
            "\rAnnotation txt for each iamge:  78%|███████▊  | 94/120 [00:10<00:02,  9.39it/s]"
          ]
        },
        {
          "output_type": "stream",
          "name": "stdout",
          "text": [
            "that images contains class: 4 objects\n",
            "checking : frame_20_27600.jpg and copying images to output path\n",
            "cp: cannot stat '/content/frame_20_27600.jpg': No such file or directory\n"
          ]
        },
        {
          "output_type": "stream",
          "name": "stderr",
          "text": [
            "\rAnnotation txt for each iamge:  79%|███████▉  | 95/120 [00:10<00:02,  9.39it/s]"
          ]
        },
        {
          "output_type": "stream",
          "name": "stdout",
          "text": [
            "that images contains class: 5 objects\n",
            "checking : frame_20_28000.jpg and copying images to output path\n",
            "cp: cannot stat '/content/frame_20_28000.jpg': No such file or directory\n"
          ]
        },
        {
          "output_type": "stream",
          "name": "stderr",
          "text": [
            "\rAnnotation txt for each iamge:  80%|████████  | 96/120 [00:10<00:02,  9.40it/s]"
          ]
        },
        {
          "output_type": "stream",
          "name": "stdout",
          "text": [
            "that images contains class: 6 objects\n",
            "checking : frame_20_28800.jpg and copying images to output path\n",
            "cp: cannot stat '/content/frame_20_28800.jpg': No such file or directory\n"
          ]
        },
        {
          "output_type": "stream",
          "name": "stderr",
          "text": [
            "\rAnnotation txt for each iamge:  81%|████████  | 97/120 [00:10<00:02,  9.41it/s]"
          ]
        },
        {
          "output_type": "stream",
          "name": "stdout",
          "text": [
            "that images contains class: 5 objects\n",
            "checking : frame_20_28900.jpg and copying images to output path\n",
            "cp: cannot stat '/content/frame_20_28900.jpg': No such file or directory\n"
          ]
        },
        {
          "output_type": "stream",
          "name": "stderr",
          "text": [
            "\rAnnotation txt for each iamge:  82%|████████▏ | 98/120 [00:10<00:02,  9.41it/s]"
          ]
        },
        {
          "output_type": "stream",
          "name": "stdout",
          "text": [
            "that images contains class: 5 objects\n",
            "checking : frame_20_29200.jpg and copying images to output path\n",
            "cp: cannot stat '/content/frame_20_29200.jpg': No such file or directory\n"
          ]
        },
        {
          "output_type": "stream",
          "name": "stderr",
          "text": [
            "\rAnnotation txt for each iamge:  82%|████████▎ | 99/120 [00:10<00:02,  9.37it/s]"
          ]
        },
        {
          "output_type": "stream",
          "name": "stdout",
          "text": [
            "that images contains class: 5 objects\n",
            "checking : frame_20_29600.jpg and copying images to output path\n",
            "cp: cannot stat '/content/frame_20_29600.jpg': No such file or directory\n"
          ]
        },
        {
          "output_type": "stream",
          "name": "stderr",
          "text": [
            "\rAnnotation txt for each iamge:  83%|████████▎ | 100/120 [00:10<00:02,  9.38it/s]"
          ]
        },
        {
          "output_type": "stream",
          "name": "stdout",
          "text": [
            "that images contains class: 4 objects\n",
            "checking : frame_20_30400.jpg and copying images to output path\n",
            "cp: cannot stat '/content/frame_20_30400.jpg': No such file or directory\n"
          ]
        },
        {
          "output_type": "stream",
          "name": "stderr",
          "text": [
            "\rAnnotation txt for each iamge:  84%|████████▍ | 101/120 [00:11<00:02,  9.38it/s]"
          ]
        },
        {
          "output_type": "stream",
          "name": "stdout",
          "text": [
            "that images contains class: 6 objects\n",
            "checking : frame_20_30600.jpg and copying images to output path\n",
            "cp: cannot stat '/content/frame_20_30600.jpg': No such file or directory\n"
          ]
        },
        {
          "output_type": "stream",
          "name": "stderr",
          "text": [
            "\rAnnotation txt for each iamge:  85%|████████▌ | 102/120 [00:11<00:01,  9.38it/s]"
          ]
        },
        {
          "output_type": "stream",
          "name": "stdout",
          "text": [
            "that images contains class: 7 objects\n",
            "checking : frame_20_30800.jpg and copying images to output path\n",
            "cp: cannot stat '/content/frame_20_30800.jpg': No such file or directory\n"
          ]
        },
        {
          "output_type": "stream",
          "name": "stderr",
          "text": [
            "\rAnnotation txt for each iamge:  86%|████████▌ | 103/120 [00:11<00:01,  9.36it/s]"
          ]
        },
        {
          "output_type": "stream",
          "name": "stdout",
          "text": [
            "that images contains class: 5 objects\n",
            "checking : frame_20_31200.jpg and copying images to output path\n",
            "cp: cannot stat '/content/frame_20_31200.jpg': No such file or directory\n"
          ]
        },
        {
          "output_type": "stream",
          "name": "stderr",
          "text": [
            "\rAnnotation txt for each iamge:  87%|████████▋ | 104/120 [00:11<00:01,  9.28it/s]"
          ]
        },
        {
          "output_type": "stream",
          "name": "stdout",
          "text": [
            "that images contains class: 4 objects\n",
            "checking : frame_20_32000.jpg and copying images to output path\n",
            "cp: cannot stat '/content/frame_20_32000.jpg': No such file or directory\n"
          ]
        },
        {
          "output_type": "stream",
          "name": "stderr",
          "text": [
            "\rAnnotation txt for each iamge:  88%|████████▊ | 105/120 [00:11<00:01,  9.26it/s]"
          ]
        },
        {
          "output_type": "stream",
          "name": "stdout",
          "text": [
            "that images contains class: 5 objects\n",
            "checking : frame_20_32300.jpg and copying images to output path\n",
            "cp: cannot stat '/content/frame_20_32300.jpg': No such file or directory\n"
          ]
        },
        {
          "output_type": "stream",
          "name": "stderr",
          "text": [
            "\rAnnotation txt for each iamge:  88%|████████▊ | 106/120 [00:11<00:01,  9.11it/s]"
          ]
        },
        {
          "output_type": "stream",
          "name": "stdout",
          "text": [
            "that images contains class: 6 objects\n",
            "checking : frame_20_32400.jpg and copying images to output path\n",
            "cp: cannot stat '/content/frame_20_32400.jpg': No such file or directory\n"
          ]
        },
        {
          "output_type": "stream",
          "name": "stderr",
          "text": [
            "\rAnnotation txt for each iamge:  89%|████████▉ | 107/120 [00:11<00:01,  9.04it/s]"
          ]
        },
        {
          "output_type": "stream",
          "name": "stdout",
          "text": [
            "that images contains class: 6 objects\n",
            "checking : frame_20_32800.jpg and copying images to output path\n",
            "cp: cannot stat '/content/frame_20_32800.jpg': No such file or directory\n"
          ]
        },
        {
          "output_type": "stream",
          "name": "stderr",
          "text": [
            "\rAnnotation txt for each iamge:  90%|█████████ | 108/120 [00:11<00:01,  9.13it/s]"
          ]
        },
        {
          "output_type": "stream",
          "name": "stdout",
          "text": [
            "that images contains class: 5 objects\n",
            "checking : frame_20_33600.jpg and copying images to output path\n",
            "cp: cannot stat '/content/frame_20_33600.jpg': No such file or directory\n"
          ]
        },
        {
          "output_type": "stream",
          "name": "stderr",
          "text": [
            "\rAnnotation txt for each iamge:  91%|█████████ | 109/120 [00:11<00:01,  9.19it/s]"
          ]
        },
        {
          "output_type": "stream",
          "name": "stdout",
          "text": [
            "that images contains class: 5 objects\n",
            "checking : frame_20_34000.jpg and copying images to output path\n",
            "cp: cannot stat '/content/frame_20_34000.jpg': No such file or directory\n"
          ]
        },
        {
          "output_type": "stream",
          "name": "stderr",
          "text": [
            "\rAnnotation txt for each iamge:  92%|█████████▏| 110/120 [00:12<00:01,  9.24it/s]"
          ]
        },
        {
          "output_type": "stream",
          "name": "stdout",
          "text": [
            "that images contains class: 7 objects\n",
            "checking : frame_20_34400.jpg and copying images to output path\n",
            "cp: cannot stat '/content/frame_20_34400.jpg': No such file or directory\n"
          ]
        },
        {
          "output_type": "stream",
          "name": "stderr",
          "text": [
            "\rAnnotation txt for each iamge:  92%|█████████▎| 111/120 [00:12<00:00,  9.18it/s]"
          ]
        },
        {
          "output_type": "stream",
          "name": "stdout",
          "text": [
            "that images contains class: 8 objects\n",
            "checking : frame_20_35200.jpg and copying images to output path\n",
            "cp: cannot stat '/content/frame_20_35200.jpg': No such file or directory\n"
          ]
        },
        {
          "output_type": "stream",
          "name": "stderr",
          "text": [
            "\rAnnotation txt for each iamge:  93%|█████████▎| 112/120 [00:12<00:00,  9.23it/s]"
          ]
        },
        {
          "output_type": "stream",
          "name": "stdout",
          "text": [
            "that images contains class: 8 objects\n",
            "checking : frame_20_35600.jpg and copying images to output path\n",
            "cp: cannot stat '/content/frame_20_35600.jpg': No such file or directory\n"
          ]
        },
        {
          "output_type": "stream",
          "name": "stderr",
          "text": [
            "\rAnnotation txt for each iamge:  94%|█████████▍| 113/120 [00:12<00:00,  9.16it/s]"
          ]
        },
        {
          "output_type": "stream",
          "name": "stdout",
          "text": [
            "that images contains class: 8 objects\n",
            "checking : frame_20_35700.jpg and copying images to output path\n",
            "cp: cannot stat '/content/frame_20_35700.jpg': No such file or directory\n"
          ]
        },
        {
          "output_type": "stream",
          "name": "stderr",
          "text": [
            "\rAnnotation txt for each iamge:  95%|█████████▌| 114/120 [00:12<00:00,  9.22it/s]"
          ]
        },
        {
          "output_type": "stream",
          "name": "stdout",
          "text": [
            "that images contains class: 8 objects\n",
            "checking : frame_20_36000.jpg and copying images to output path\n",
            "cp: cannot stat '/content/frame_20_36000.jpg': No such file or directory\n"
          ]
        },
        {
          "output_type": "stream",
          "name": "stderr",
          "text": [
            "\rAnnotation txt for each iamge:  96%|█████████▌| 115/120 [00:12<00:00,  9.29it/s]"
          ]
        },
        {
          "output_type": "stream",
          "name": "stdout",
          "text": [
            "that images contains class: 8 objects\n",
            "checking : frame_20_36800.jpg and copying images to output path\n",
            "cp: cannot stat '/content/frame_20_36800.jpg': No such file or directory\n"
          ]
        },
        {
          "output_type": "stream",
          "name": "stderr",
          "text": [
            "\rAnnotation txt for each iamge:  97%|█████████▋| 116/120 [00:12<00:00,  9.03it/s]"
          ]
        },
        {
          "output_type": "stream",
          "name": "stdout",
          "text": [
            "that images contains class: 8 objects\n",
            "checking : frame_20_37200.jpg and copying images to output path\n",
            "cp: cannot stat '/content/frame_20_37200.jpg': No such file or directory\n"
          ]
        },
        {
          "output_type": "stream",
          "name": "stderr",
          "text": [
            "\rAnnotation txt for each iamge:  98%|█████████▊| 117/120 [00:12<00:00,  9.11it/s]"
          ]
        },
        {
          "output_type": "stream",
          "name": "stdout",
          "text": [
            "that images contains class: 7 objects\n",
            "checking : frame_20_37400.jpg and copying images to output path\n",
            "cp: cannot stat '/content/frame_20_37400.jpg': No such file or directory\n",
            "that images contains class: 8 objects\n",
            "checking : frame_20_37600.jpg and copying images to output path\n",
            "cp: cannot stat '/content/frame_20_37600.jpg': No such file or directory\n"
          ]
        },
        {
          "output_type": "stream",
          "name": "stderr",
          "text": [
            "\rAnnotation txt for each iamge:  99%|█████████▉| 119/120 [00:12<00:00, 11.43it/s]"
          ]
        },
        {
          "output_type": "stream",
          "name": "stdout",
          "text": [
            "that images contains class: 7 objects\n",
            "checking : frame_20_38400.jpg and copying images to output path\n",
            "cp: cannot stat '/content/frame_20_38400.jpg': No such file or directory\n"
          ]
        },
        {
          "output_type": "stream",
          "name": "stderr",
          "text": [
            "\rAnnotation txt for each iamge: 100%|██████████| 120/120 [00:13<00:00,  9.19it/s]\n"
          ]
        },
        {
          "output_type": "stream",
          "name": "stdout",
          "text": [
            "that images contains class: 6 objects\n",
            "creating category_id and category name in darknet.labels\n"
          ]
        },
        {
          "output_type": "stream",
          "name": "stderr",
          "text": [
            "Categories: 100%|██████████| 1/1 [00:00<00:00, 6710.89it/s]"
          ]
        },
        {
          "output_type": "stream",
          "name": "stdout",
          "text": [
            "piglet\n",
            "Finish\n"
          ]
        },
        {
          "output_type": "stream",
          "name": "stderr",
          "text": [
            "\n"
          ]
        }
      ],
      "source": [
        "convert_coco_json_to_yolo_txt(\"labels\", \"/content/instances_Validation.json\")"
      ]
    },
    {
      "cell_type": "code",
      "source": [
        "from google.colab import drive\n",
        "drive.mount('/content/drive')"
      ],
      "metadata": {
        "colab": {
          "base_uri": "https://localhost:8080/"
        },
        "id": "oArR88eLkAmJ",
        "outputId": "1226f1c3-1af0-4dc9-fa51-606fd72c9c32"
      },
      "execution_count": null,
      "outputs": [
        {
          "output_type": "stream",
          "name": "stdout",
          "text": [
            "Drive already mounted at /content/drive; to attempt to forcibly remount, call drive.mount(\"/content/drive\", force_remount=True).\n"
          ]
        }
      ]
    },
    {
      "cell_type": "code",
      "source": [
        "!mkdir /content/drive/MyDrive/superai/yolofomat/val/"
      ],
      "metadata": {
        "id": "JOVwpahSmwhp",
        "colab": {
          "base_uri": "https://localhost:8080/"
        },
        "outputId": "9f87886c-7f95-4586-cd43-ef7fe9d54ecf"
      },
      "execution_count": null,
      "outputs": [
        {
          "output_type": "stream",
          "name": "stdout",
          "text": [
            "mkdir: cannot create directory ‘/content/drive/MyDrive/superai/yolofomat/val/’: File exists\n"
          ]
        }
      ]
    },
    {
      "cell_type": "code",
      "source": [
        "!mv /content/labels /content/drive/MyDrive/superai/yolofomat/val/"
      ],
      "metadata": {
        "id": "db_UEhesk_YI"
      },
      "execution_count": null,
      "outputs": []
    },
    {
      "cell_type": "code",
      "source": [
        "!mv /content/yolo_from_Project_2nd_images /content/drive/MyDrive/superai/yolofomat/"
      ],
      "metadata": {
        "id": "Ne5FVz2hm-l9"
      },
      "execution_count": null,
      "outputs": []
    },
    {
      "cell_type": "code",
      "source": [],
      "metadata": {
        "id": "rq0LCmHZnI1n"
      },
      "execution_count": null,
      "outputs": []
    }
  ],
  "metadata": {
    "colab": {
      "provenance": []
    },
    "kernelspec": {
      "display_name": "coastsat",
      "language": "python",
      "name": "python3"
    },
    "language_info": {
      "codemirror_mode": {
        "name": "ipython",
        "version": 3
      },
      "file_extension": ".py",
      "mimetype": "text/x-python",
      "name": "python",
      "nbconvert_exporter": "python",
      "pygments_lexer": "ipython3",
      "version": "3.8.15 | packaged by conda-forge | (default, Nov 22 2022, 08:49:35) \n[GCC 10.4.0]"
    },
    "orig_nbformat": 4,
    "vscode": {
      "interpreter": {
        "hash": "83d9b93781df2ef451f03771cc8db44dcd3275d59589f0973dc63e92aba3936c"
      }
    }
  },
  "nbformat": 4,
  "nbformat_minor": 0
}